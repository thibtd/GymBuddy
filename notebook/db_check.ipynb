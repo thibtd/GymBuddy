{
 "cells": [
  {
   "cell_type": "code",
   "execution_count": 18,
   "id": "ecb67cdc",
   "metadata": {},
   "outputs": [],
   "source": [
    "import pandas as pd \n",
    "import duckdb"
   ]
  },
  {
   "cell_type": "code",
   "execution_count": 19,
   "id": "cce5b25f",
   "metadata": {},
   "outputs": [],
   "source": [
    "conn = duckdb.connect('../data/gymBuddy_db.db')"
   ]
  },
  {
   "cell_type": "code",
   "execution_count": 20,
   "id": "8be663ca",
   "metadata": {},
   "outputs": [
    {
     "data": {
      "text/plain": [
       "┌──────────────────┐\n",
       "│       name       │\n",
       "│     varchar      │\n",
       "├──────────────────┤\n",
       "│ workout          │\n",
       "│ workout_analysis │\n",
       "└──────────────────┘"
      ]
     },
     "execution_count": 20,
     "metadata": {},
     "output_type": "execute_result"
    }
   ],
   "source": [
    "conn.sql(\"SHOW TABLES\")"
   ]
  },
  {
   "cell_type": "code",
   "execution_count": 21,
   "id": "5c6cf9e4",
   "metadata": {},
   "outputs": [
    {
     "data": {
      "text/plain": [
       "┌─────────┐\n",
       "│ max(id) │\n",
       "│  int32  │\n",
       "├─────────┤\n",
       "│     123 │\n",
       "└─────────┘"
      ]
     },
     "execution_count": 21,
     "metadata": {},
     "output_type": "execute_result"
    }
   ],
   "source": [
    "conn.sql(\"Select max(id) from workout\")"
   ]
  },
  {
   "cell_type": "code",
   "execution_count": 22,
   "id": "af0ef787",
   "metadata": {},
   "outputs": [
    {
     "data": {
      "text/plain": [
       "┌───────┬──────────────┬────────────────────────────┬──────────┬─────────────────┬───────────────────────┬───────────┐\n",
       "│  ID   │ workout_name │      timestamp_start       │ rep_goal │ strictness_crit │ strictness_definition │ left_side │\n",
       "│ int32 │   varchar    │         timestamp          │  int32   │     varchar     │        double         │  boolean  │\n",
       "├───────┼──────────────┼────────────────────────────┼──────────┼─────────────────┼───────────────────────┼───────────┤\n",
       "│   123 │ push-ups     │ 2025-06-12 15:11:09.055609 │        1 │ loose           │                  15.0 │ true      │\n",
       "└───────┴──────────────┴────────────────────────────┴──────────┴─────────────────┴───────────────────────┴───────────┘"
      ]
     },
     "execution_count": 22,
     "metadata": {},
     "output_type": "execute_result"
    }
   ],
   "source": [
    "conn.sql(\"select * from workout where id =123\")"
   ]
  },
  {
   "cell_type": "code",
   "execution_count": 23,
   "id": "98ba8373",
   "metadata": {},
   "outputs": [
    {
     "data": {
      "text/plain": [
       "┌────────────┬───────┬───────────┬───────────────┬───────────┬─────────┬─────────────┬───────────────────────────────────────────────────────────────────┬───────────────────────┐\n",
       "│ workout_id │ frame │ timestamp │ series_number │ rep_count │  down   │ form_issues │                            angles_data                            │  ldmrks_of_interest   │\n",
       "│   int32    │ int32 │ timestamp │     int32     │   int32   │ boolean │   varchar   │ struct(\"name\" varchar, \"value\" double, joint_indices integer[])[] │ map(varchar, integer) │\n",
       "├────────────┴───────┴───────────┴───────────────┴───────────┴─────────┴─────────────┴───────────────────────────────────────────────────────────────────┴───────────────────────┤\n",
       "│                                                                                     0 rows                                                                                     │\n",
       "└────────────────────────────────────────────────────────────────────────────────────────────────────────────────────────────────────────────────────────────────────────────────┘"
      ]
     },
     "execution_count": 23,
     "metadata": {},
     "output_type": "execute_result"
    }
   ],
   "source": [
    "conn.sql(\"SELECT * FROM workout_analysis where workout_id = 123\")"
   ]
  },
  {
   "cell_type": "code",
   "execution_count": 19,
   "id": "30752707",
   "metadata": {},
   "outputs": [],
   "source": [
    "import datetime"
   ]
  },
  {
   "cell_type": "code",
   "execution_count": 20,
   "id": "ebeaf109",
   "metadata": {},
   "outputs": [],
   "source": [
    "array_insert = [{'id': 121, 'frame': 162, 'time': datetime.datetime(2025, 6, 12, 14, 6, 40, 900220), 'rep_count': 0, 'down': True, 'form_issues': 'knees on floor', 'angles_data': '[{\"name\": \"elbow\", \"value\": 129.53147363343317, \"joint_indices\": [15, 13, 11]}, {\"name\": \"body\", \"value\": 177.76583332780172, \"joint_indices\": [11, 23, 27]}]', 'ldmrks_keys': ['shoulder', 'elbow', 'wrist', 'hip', 'ankle', 'knee', 'toes'], 'ldmrks_values': [11, 13, 15, 23, 27, 25, 31]}, {'id': 121, 'frame': 163, 'time': datetime.datetime(2025, 6, 12, 14, 6, 41, 22448), 'rep_count': 0, 'down': True, 'form_issues': 'Good form! (angle: 165.9degrees)', 'angles_data': '[{\"name\": \"elbow\", \"value\": 137.23768234411716, \"joint_indices\": [15, 13, 11]}, {\"name\": \"body\", \"value\": 165.9001494314959, \"joint_indices\": [11, 23, 27]}]', 'ldmrks_keys': ['shoulder', 'elbow', 'wrist', 'hip', 'ankle', 'knee', 'toes'], 'ldmrks_values': [11, 13, 15, 23, 27, 25, 31]}, {'id': 121, 'frame': 164, 'time': datetime.datetime(2025, 6, 12, 14, 6, 41, 136119), 'rep_count': 1, 'down': False, 'form_issues': 'Good form! (angle: 162.4degrees)', 'angles_data': '[{\"name\": \"elbow\", \"value\": 154.16380858568002, \"joint_indices\": [15, 13, 11]}, {\"name\": \"body\", \"value\": 162.3936643031923, \"joint_indices\": [11, 23, 27]}]', 'ldmrks_keys': ['shoulder', 'elbow', 'wrist', 'hip', 'ankle', 'knee', 'toes'], 'ldmrks_values': [11, 13, 15, 23, 27, 25, 31]}]"
   ]
  },
  {
   "cell_type": "code",
   "execution_count": 21,
   "id": "a8755285",
   "metadata": {},
   "outputs": [],
   "source": [
    "insert_db = pd.DataFrame(array_insert)"
   ]
  },
  {
   "cell_type": "code",
   "execution_count": 75,
   "id": "7804033c",
   "metadata": {},
   "outputs": [],
   "source": [
    "data_to_insert = insert_db.copy()"
   ]
  },
  {
   "cell_type": "code",
   "execution_count": 76,
   "id": "0b4835e5",
   "metadata": {},
   "outputs": [
    {
     "data": {
      "text/plain": [
       "┌────────────────────┬───────────────────────────────────────────────────────────────────┬─────────┬─────────┬─────────┬─────────┐\n",
       "│    column_name     │                            column_type                            │  null   │   key   │ default │  extra  │\n",
       "│      varchar       │                              varchar                              │ varchar │ varchar │ varchar │ varchar │\n",
       "├────────────────────┼───────────────────────────────────────────────────────────────────┼─────────┼─────────┼─────────┼─────────┤\n",
       "│ workout_id         │ INTEGER                                                           │ NO      │ PRI     │ NULL    │ NULL    │\n",
       "│ frame              │ INTEGER                                                           │ NO      │ NULL    │ NULL    │ NULL    │\n",
       "│ timestamp          │ TIMESTAMP                                                         │ NO      │ PRI     │ NULL    │ NULL    │\n",
       "│ series_number      │ INTEGER                                                           │ YES     │ NULL    │ NULL    │ NULL    │\n",
       "│ rep_count          │ INTEGER                                                           │ NO      │ NULL    │ NULL    │ NULL    │\n",
       "│ down               │ BOOLEAN                                                           │ NO      │ NULL    │ NULL    │ NULL    │\n",
       "│ form_issues        │ VARCHAR                                                           │ NO      │ NULL    │ NULL    │ NULL    │\n",
       "│ angles_data        │ STRUCT(\"name\" VARCHAR, \"value\" DOUBLE, joint_indices INTEGER[])[] │ NO      │ NULL    │ NULL    │ NULL    │\n",
       "│ ldmrks_of_interest │ MAP(VARCHAR, INTEGER)                                             │ NO      │ NULL    │ NULL    │ NULL    │\n",
       "└────────────────────┴───────────────────────────────────────────────────────────────────┴─────────┴─────────┴─────────┴─────────┘"
      ]
     },
     "execution_count": 76,
     "metadata": {},
     "output_type": "execute_result"
    }
   ],
   "source": [
    "conn.sql(\"SHOW workout_analysis\")"
   ]
  },
  {
   "cell_type": "code",
   "execution_count": 77,
   "id": "ac2dd34c",
   "metadata": {},
   "outputs": [],
   "source": [
    "data_to_insert.rename(columns={'id': 'workout_id','time':'timestamp'}, inplace=True)"
   ]
  },
  {
   "cell_type": "code",
   "execution_count": 82,
   "id": "beeddcd7",
   "metadata": {},
   "outputs": [
    {
     "data": {
      "text/plain": [
       "{'key': array([list(['shoulder', 'elbow', 'wrist', 'hip', 'ankle', 'knee', 'toes']),\n",
       "        list(['shoulder', 'elbow', 'wrist', 'hip', 'ankle', 'knee', 'toes']),\n",
       "        list(['shoulder', 'elbow', 'wrist', 'hip', 'ankle', 'knee', 'toes'])],\n",
       "       dtype=object),\n",
       " 'value': array([list([11, 13, 15, 23, 27, 25, 31]),\n",
       "        list([11, 13, 15, 23, 27, 25, 31]),\n",
       "        list([11, 13, 15, 23, 27, 25, 31])], dtype=object)}"
      ]
     },
     "execution_count": 82,
     "metadata": {},
     "output_type": "execute_result"
    }
   ],
   "source": [
    "{'key': data_to_insert['ldmrks_keys'].values, 'value': data_to_insert['ldmrks_values'].values}"
   ]
  },
  {
   "cell_type": "markdown",
   "id": "920ce21a",
   "metadata": {},
   "source": []
  },
  {
   "cell_type": "code",
   "execution_count": 86,
   "id": "9ff88c03",
   "metadata": {},
   "outputs": [],
   "source": [
    "data_to_insert['ldmrks_of_interest']= data_to_insert.apply(lambda row:{'key': row['ldmrks_keys'], 'value': row['ldmrks_values']}, axis=1)\n"
   ]
  },
  {
   "cell_type": "code",
   "execution_count": 87,
   "id": "08ab517e",
   "metadata": {},
   "outputs": [
    {
     "data": {
      "text/plain": [
       "0    {'key': ['shoulder', 'elbow', 'wrist', 'hip', ...\n",
       "1    {'key': ['shoulder', 'elbow', 'wrist', 'hip', ...\n",
       "2    {'key': ['shoulder', 'elbow', 'wrist', 'hip', ...\n",
       "Name: ldmrks_of_interest, dtype: object"
      ]
     },
     "execution_count": 87,
     "metadata": {},
     "output_type": "execute_result"
    }
   ],
   "source": [
    "data_to_insert['ldmrks_of_interest']"
   ]
  },
  {
   "cell_type": "code",
   "execution_count": 88,
   "id": "11015f3f",
   "metadata": {},
   "outputs": [
    {
     "data": {
      "text/html": [
       "<div>\n",
       "<style scoped>\n",
       "    .dataframe tbody tr th:only-of-type {\n",
       "        vertical-align: middle;\n",
       "    }\n",
       "\n",
       "    .dataframe tbody tr th {\n",
       "        vertical-align: top;\n",
       "    }\n",
       "\n",
       "    .dataframe thead th {\n",
       "        text-align: right;\n",
       "    }\n",
       "</style>\n",
       "<table border=\"1\" class=\"dataframe\">\n",
       "  <thead>\n",
       "    <tr style=\"text-align: right;\">\n",
       "      <th></th>\n",
       "      <th>workout_id</th>\n",
       "      <th>frame</th>\n",
       "      <th>timestamp</th>\n",
       "      <th>rep_count</th>\n",
       "      <th>down</th>\n",
       "      <th>form_issues</th>\n",
       "      <th>angles_data</th>\n",
       "      <th>ldmrks_keys</th>\n",
       "      <th>ldmrks_values</th>\n",
       "      <th>ldmrks_of_interest</th>\n",
       "    </tr>\n",
       "  </thead>\n",
       "  <tbody>\n",
       "    <tr>\n",
       "      <th>0</th>\n",
       "      <td>121</td>\n",
       "      <td>162</td>\n",
       "      <td>2025-06-12 14:06:40.900220</td>\n",
       "      <td>0</td>\n",
       "      <td>True</td>\n",
       "      <td>knees on floor</td>\n",
       "      <td>[{\"name\": \"elbow\", \"value\": 129.53147363343317...</td>\n",
       "      <td>[shoulder, elbow, wrist, hip, ankle, knee, toes]</td>\n",
       "      <td>[11, 13, 15, 23, 27, 25, 31]</td>\n",
       "      <td>{'key': ['shoulder', 'elbow', 'wrist', 'hip', ...</td>\n",
       "    </tr>\n",
       "    <tr>\n",
       "      <th>1</th>\n",
       "      <td>121</td>\n",
       "      <td>163</td>\n",
       "      <td>2025-06-12 14:06:41.022448</td>\n",
       "      <td>0</td>\n",
       "      <td>True</td>\n",
       "      <td>Good form! (angle: 165.9degrees)</td>\n",
       "      <td>[{\"name\": \"elbow\", \"value\": 137.23768234411716...</td>\n",
       "      <td>[shoulder, elbow, wrist, hip, ankle, knee, toes]</td>\n",
       "      <td>[11, 13, 15, 23, 27, 25, 31]</td>\n",
       "      <td>{'key': ['shoulder', 'elbow', 'wrist', 'hip', ...</td>\n",
       "    </tr>\n",
       "    <tr>\n",
       "      <th>2</th>\n",
       "      <td>121</td>\n",
       "      <td>164</td>\n",
       "      <td>2025-06-12 14:06:41.136119</td>\n",
       "      <td>1</td>\n",
       "      <td>False</td>\n",
       "      <td>Good form! (angle: 162.4degrees)</td>\n",
       "      <td>[{\"name\": \"elbow\", \"value\": 154.16380858568002...</td>\n",
       "      <td>[shoulder, elbow, wrist, hip, ankle, knee, toes]</td>\n",
       "      <td>[11, 13, 15, 23, 27, 25, 31]</td>\n",
       "      <td>{'key': ['shoulder', 'elbow', 'wrist', 'hip', ...</td>\n",
       "    </tr>\n",
       "  </tbody>\n",
       "</table>\n",
       "</div>"
      ],
      "text/plain": [
       "   workout_id  frame                  timestamp  rep_count   down  \\\n",
       "0         121    162 2025-06-12 14:06:40.900220          0   True   \n",
       "1         121    163 2025-06-12 14:06:41.022448          0   True   \n",
       "2         121    164 2025-06-12 14:06:41.136119          1  False   \n",
       "\n",
       "                        form_issues  \\\n",
       "0                    knees on floor   \n",
       "1  Good form! (angle: 165.9degrees)   \n",
       "2  Good form! (angle: 162.4degrees)   \n",
       "\n",
       "                                         angles_data  \\\n",
       "0  [{\"name\": \"elbow\", \"value\": 129.53147363343317...   \n",
       "1  [{\"name\": \"elbow\", \"value\": 137.23768234411716...   \n",
       "2  [{\"name\": \"elbow\", \"value\": 154.16380858568002...   \n",
       "\n",
       "                                        ldmrks_keys  \\\n",
       "0  [shoulder, elbow, wrist, hip, ankle, knee, toes]   \n",
       "1  [shoulder, elbow, wrist, hip, ankle, knee, toes]   \n",
       "2  [shoulder, elbow, wrist, hip, ankle, knee, toes]   \n",
       "\n",
       "                  ldmrks_values  \\\n",
       "0  [11, 13, 15, 23, 27, 25, 31]   \n",
       "1  [11, 13, 15, 23, 27, 25, 31]   \n",
       "2  [11, 13, 15, 23, 27, 25, 31]   \n",
       "\n",
       "                                  ldmrks_of_interest  \n",
       "0  {'key': ['shoulder', 'elbow', 'wrist', 'hip', ...  \n",
       "1  {'key': ['shoulder', 'elbow', 'wrist', 'hip', ...  \n",
       "2  {'key': ['shoulder', 'elbow', 'wrist', 'hip', ...  "
      ]
     },
     "execution_count": 88,
     "metadata": {},
     "output_type": "execute_result"
    }
   ],
   "source": [
    "data_to_insert"
   ]
  },
  {
   "cell_type": "code",
   "execution_count": 89,
   "id": "9aca6b99",
   "metadata": {},
   "outputs": [],
   "source": [
    "data_to_insert.drop(columns=['ldmrks_keys', 'ldmrks_values'], inplace=True)"
   ]
  },
  {
   "cell_type": "code",
   "execution_count": 90,
   "id": "c0a77394",
   "metadata": {},
   "outputs": [],
   "source": [
    "conn.sql(\"INSERT INTO workout_analysis BY NAME SELECT * FROM data_to_insert\")"
   ]
  },
  {
   "cell_type": "code",
   "execution_count": 109,
   "id": "10a0c9bb",
   "metadata": {},
   "outputs": [
    {
     "data": {
      "text/plain": [
       "┌────────────┬───────┬───────────┬───────────────┬───────────┬─────────┬─────────────┬───────────────────────────────────────────────────────────────────┬───────────────────────┐\n",
       "│ workout_id │ frame │ timestamp │ series_number │ rep_count │  down   │ form_issues │                            angles_data                            │  ldmrks_of_interest   │\n",
       "│   int32    │ int32 │ timestamp │     int32     │   int32   │ boolean │   varchar   │ struct(\"name\" varchar, \"value\" double, joint_indices integer[])[] │ map(varchar, integer) │\n",
       "├────────────┴───────┴───────────┴───────────────┴───────────┴─────────┴─────────────┴───────────────────────────────────────────────────────────────────┴───────────────────────┤\n",
       "│                                                                                     0 rows                                                                                     │\n",
       "└────────────────────────────────────────────────────────────────────────────────────────────────────────────────────────────────────────────────────────────────────────────────┘"
      ]
     },
     "execution_count": 109,
     "metadata": {},
     "output_type": "execute_result"
    }
   ],
   "source": [
    "conn.sql(\"SELECT * FROM workout_analysis where workout_id = 122\")"
   ]
  },
  {
   "cell_type": "code",
   "execution_count": 24,
   "id": "644d7aa6",
   "metadata": {},
   "outputs": [],
   "source": [
    "conn.close()"
   ]
  },
  {
   "cell_type": "code",
   "execution_count": null,
   "id": "ef664ec8",
   "metadata": {},
   "outputs": [],
   "source": []
  }
 ],
 "metadata": {
  "kernelspec": {
   "display_name": ".venv",
   "language": "python",
   "name": "python3"
  },
  "language_info": {
   "codemirror_mode": {
    "name": "ipython",
    "version": 3
   },
   "file_extension": ".py",
   "mimetype": "text/x-python",
   "name": "python",
   "nbconvert_exporter": "python",
   "pygments_lexer": "ipython3",
   "version": "3.12.4"
  }
 },
 "nbformat": 4,
 "nbformat_minor": 5
}
